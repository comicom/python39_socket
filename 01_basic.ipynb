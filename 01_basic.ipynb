{
 "cells": [
  {
   "cell_type": "code",
   "execution_count": null,
   "id": "f5c61021-94a8-4c61-a6e0-017f298ab1d3",
   "metadata": {},
   "outputs": [],
   "source": [
    "import socket\n",
    "import time\n",
    "\n",
    "HOST = \"127.0.0.1\" # LOOPBACK IP\n",
    "INTERFACE = \"255.255.255.255\"\n",
    "MULTICAST = \"224.0.0.1\"\n",
    "PORT = 50005"
   ]
  },
  {
   "cell_type": "code",
   "execution_count": null,
   "id": "a74924a8-bf94-47a8-9d5c-f6607eab483a",
   "metadata": {},
   "outputs": [],
   "source": [
    "import argparse\n",
    "\n",
    "def parser():\n",
    "    parser = argparse.ArgumentParser(description=\"<< socket example:  >>\"+\n",
    "                                     \"\\n2021.10.27. created by Jess\"+\n",
    "                                     \"\\nrun in only local pc\")\n",
    "    parser.add_argument(\"--network\", type=str, help=\"choose server or client\")\n",
    "    parser.add_argument(\"--L3\", type=str, help=\"choose TCP or UDP\")\n",
    "    return parser.parse_args()"
   ]
  },
  {
   "cell_type": "code",
   "execution_count": null,
   "id": "76c2e9a0-514b-4966-b6a8-fc34b34f8ba9",
   "metadata": {},
   "outputs": [],
   "source": [
    "# TCP example, SOCK_STREAM\n",
    "def run_TCP_server():\n",
    "    try:\n",
    "        tcpip_sock = socket.socket(socket.AF_INET, socket.SOCK_STREAM)\n",
    "        tcpip_sock.bind((HOST, PORT))\n",
    "        tcpip_sock.listen()\n",
    "        while True:\n",
    "            client_socket, client_addr = tcpip_sock.accept() # wait until connect\n",
    "            msg = client_socket.recv(1024)\n",
    "            print(\"[{}] message : {}\".format(client_addr,msg))\n",
    "            \n",
    "    except KeyboardInterrupt:\n",
    "        tcpip_sock.close()\n",
    "\n",
    "def run_TCP_clinet():\n",
    "    try:\n",
    "        tcpip_sock = socket.socket(socket.AF_INET, socket.SOCK_STREAM)\n",
    "        tcpip_sock.bind((HOST, PORT))\n",
    "        tcpip_sock.connect(HOST)\n",
    "        while True:\n",
    "            send_msg = input(\"send Message: \")\n",
    "            tcpip_sock.send(send_msg.encode())\n",
    "            \n",
    "    except KeyboardInterrupt:\n",
    "        tcpip_sock.close()"
   ]
  },
  {
   "cell_type": "code",
   "execution_count": null,
   "id": "a391f21b-fcea-4997-9960-173a19ebc383",
   "metadata": {},
   "outputs": [],
   "source": [
    "# UDP example, SOCK_DGRAM\n",
    "def run_UDP_server():\n",
    "    try:\n",
    "        udpip_sock = socket.socket(socket.AF_INET, socket.SOCK_DGRAM)\n",
    "        udpip_sock.bind((HOST, PORT))\n",
    "        while True:\n",
    "            data, addr = sock.recvfrom(1024)\n",
    "            data = data.decode().upper()\n",
    "            udpip_sock.sendto(data.encode(), (HOST,PORT))\n",
    "        \n",
    "    except KeyboardInterrupt:\n",
    "        udpip_sock.close()\n",
    "    \n",
    "def run_UDP_client():\n",
    "    try:\n",
    "        udpip_sock = socket.socket(socket.AF_INET, socket.SOCK_DGRAM)\n",
    "        udpip_sock.bind((HOST, PORT))\n",
    "        while True:\n",
    "            send_msg = input(\"send Message: \")\n",
    "            udpip_sock.sendto(send_msg.encode(),(HOST,PORT))\n",
    "            recvMsg, addr = sock.recvfrom(1024)\n",
    "            print(recvMsg.decode())\n",
    "        \n",
    "    except KeyboardInterrupt:\n",
    "        udpip_sock.close()"
   ]
  },
  {
   "cell_type": "code",
   "execution_count": null,
   "id": "c5bf9bfd-a25a-4b89-ad86-ded3476356fc",
   "metadata": {},
   "outputs": [],
   "source": [
    "if __name__ == \"__main__\":\n",
    "    args = parser()\n",
    "    \n",
    "    if args.network == \"server\":\n",
    "        if args.L3 == \"TCP\":\n",
    "            run_TCP_server()\n",
    "        elif args.L3 == \"UDP\":\n",
    "            run_UDP_server()\n",
    "            \n",
    "    elif args.network == \"client\":\n",
    "        if args.L3 == \"TCP\":\n",
    "            run_TCP_client()\n",
    "        elif args.L3 == \"UDP\":\n",
    "            run_UDP_client()"
   ]
  }
 ],
 "metadata": {
  "kernelspec": {
   "display_name": "Python 3 (ipykernel)",
   "language": "python",
   "name": "python3"
  },
  "language_info": {
   "codemirror_mode": {
    "name": "ipython",
    "version": 3
   },
   "file_extension": ".py",
   "mimetype": "text/x-python",
   "name": "python",
   "nbconvert_exporter": "python",
   "pygments_lexer": "ipython3",
   "version": "3.9.5"
  }
 },
 "nbformat": 4,
 "nbformat_minor": 5
}
